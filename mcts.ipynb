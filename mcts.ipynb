{
 "cells": [
  {
   "cell_type": "markdown",
   "id": "4cdb6216",
   "metadata": {},
   "source": [
    "## Plan\n",
    "\n",
    "- leverage the mcts approach\n",
    "  - final success/loss goal\n",
    "  - intermediate value approximations\n",
    "  - imagination of next nodes to follow\n",
    "\n",
    "what i could do: \n",
    "1. my goal is to write a PoC that can be interpreted and implemented by a program (human) to exploit a vulnerability\n",
    "2. at each step, i make a few educated guesses about the next steps = imagination \n",
    "   - how many guesses to make?\n",
    "   - how to ensure no duplicates? \n",
    "3. roll-out into the future for each node (?)\n",
    "    - \n",
    "4. select a certain plan and move forward searching for it? \n",
    "    - how do i break down/define nodes? if by substate, then problems of past assumption\n",
    "    - if by plan, then probably best to have a rougher -> concrete plan\n",
    "    - how do real researchers do it? start with a rough idea, dive deeper\n",
    "    - this might also depend on what i'm looking for: a stateless code / plan that takes you from point A to hack or a stateful walk itself (!!)\n",
    "    -\n",
    "\n",
    "problems: \n",
    "- chaining knowledge across nodes / global state? \n",
    "- \n",
    "\n",
    "where does finetuning fit into this? \n",
    "-> separate paradigm on top of the workflow"
   ]
  },
  {
   "cell_type": "code",
   "execution_count": null,
   "id": "7c7943e6",
   "metadata": {},
   "outputs": [],
   "source": []
  }
 ],
 "metadata": {
  "language_info": {
   "name": "python"
  }
 },
 "nbformat": 4,
 "nbformat_minor": 5
}
