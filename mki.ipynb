{
 "cells": [
  {
   "cell_type": "code",
   "execution_count": 8,
   "id": "beb0c981",
   "metadata": {},
   "outputs": [],
   "source": [
    "!pip install -qU \"langchain-google-genai\" langchain-google-vertexai \"openai\" \"langchainhub\" \"pandas\" \"tqdm\" \"pydantic\" \"python-dotenv\" langgraph langchain"
   ]
  },
  {
   "cell_type": "code",
   "execution_count": 9,
   "id": "29663d94",
   "metadata": {},
   "outputs": [],
   "source": [
    "from langgraph.prebuilt import create_react_agent"
   ]
  },
  {
   "cell_type": "code",
   "execution_count": 10,
   "id": "4bef0fa3",
   "metadata": {},
   "outputs": [
    {
     "data": {
      "text/plain": [
       "True"
      ]
     },
     "execution_count": 10,
     "metadata": {},
     "output_type": "execute_result"
    }
   ],
   "source": [
    "import os\n",
    "from dotenv import load_dotenv\n",
    "\n",
    "load_dotenv()"
   ]
  },
  {
   "cell_type": "code",
   "execution_count": 11,
   "id": "0b36a879",
   "metadata": {},
   "outputs": [],
   "source": [
    "def get_weather(city: str) -> str:\n",
    "    \"\"\"\n",
    "    Get the weather for a given city.\n",
    "    \"\"\"\n",
    "    return f\"It's sunny in {city} today!\"\n"
   ]
  },
  {
   "cell_type": "code",
   "execution_count": 12,
   "id": "72767ced",
   "metadata": {},
   "outputs": [],
   "source": [
    "MODEL_NAME = \"gemini-2.5-flash-preview-04-17\"\n",
    "agent = create_react_agent(model=MODEL_NAME, tools=[get_weather], prompt=\"You are a helpful assistant.\")"
   ]
  },
  {
   "cell_type": "code",
   "execution_count": 16,
   "id": "b1869d3f",
   "metadata": {},
   "outputs": [
    {
     "data": {
      "text/plain": [
       "{'messages': [HumanMessage(content='What is the weather in New York?', additional_kwargs={}, response_metadata={}, id='2b3a0a72-7612-43e8-af70-79f9ac0f1453'),\n",
       "  AIMessage(content='', additional_kwargs={'function_call': {'name': 'get_weather', 'arguments': '{\"city\": \"New York\"}'}}, response_metadata={'is_blocked': False, 'safety_ratings': [], 'usage_metadata': {'prompt_token_count': 29, 'candidates_token_count': 6, 'total_token_count': 223, 'prompt_tokens_details': [{'modality': 1, 'token_count': 29}], 'candidates_tokens_details': [{'modality': 1, 'token_count': 6}], 'cached_content_token_count': 0, 'cache_tokens_details': []}, 'finish_reason': 'STOP', 'avg_logprobs': -4.58773930867513, 'model_name': 'gemini-2.5-flash-preview-04-17'}, id='run--ae5d0557-3228-4923-a853-103d3316a245-0', tool_calls=[{'name': 'get_weather', 'args': {'city': 'New York'}, 'id': '24c6f59d-08e0-4f74-9af6-b5e3d7391434', 'type': 'tool_call'}], usage_metadata={'input_tokens': 29, 'output_tokens': 6, 'total_tokens': 223}),\n",
       "  ToolMessage(content=\"It's sunny in New York today!\", name='get_weather', id='36e8d31d-8a84-4be4-9f84-44f319ddb943', tool_call_id='24c6f59d-08e0-4f74-9af6-b5e3d7391434'),\n",
       "  AIMessage(content=\"It's sunny in New York today!\", additional_kwargs={}, response_metadata={'is_blocked': False, 'safety_ratings': [], 'usage_metadata': {'prompt_token_count': 48, 'candidates_token_count': 9, 'total_token_count': 57, 'prompt_tokens_details': [{'modality': 1, 'token_count': 48}], 'candidates_tokens_details': [{'modality': 1, 'token_count': 9}], 'cached_content_token_count': 0, 'cache_tokens_details': []}, 'finish_reason': 'STOP', 'avg_logprobs': -0.01256027321020762, 'model_name': 'gemini-2.5-flash-preview-04-17'}, id='run--02afdfe0-a392-4945-af2b-49ee9f5cfe83-0', usage_metadata={'input_tokens': 48, 'output_tokens': 9, 'total_tokens': 57})]}"
      ]
     },
     "execution_count": 16,
     "metadata": {},
     "output_type": "execute_result"
    }
   ],
   "source": [
    "agent.invoke({\n",
    "    \"messages\": [\n",
    "        {\n",
    "            \"role\": \"user\",\n",
    "            \"content\": \"What is the weather in New York?\"\n",
    "        }\n",
    "    ],\n",
    "})"
   ]
  },
  {
   "cell_type": "code",
   "execution_count": null,
   "id": "db8468fd",
   "metadata": {},
   "outputs": [],
   "source": [
    "from langgraph_supervisor import create_supervisor"
   ]
  }
 ],
 "metadata": {
  "kernelspec": {
   "display_name": ".venv",
   "language": "python",
   "name": "python3"
  },
  "language_info": {
   "codemirror_mode": {
    "name": "ipython",
    "version": 3
   },
   "file_extension": ".py",
   "mimetype": "text/x-python",
   "name": "python",
   "nbconvert_exporter": "python",
   "pygments_lexer": "ipython3",
   "version": "3.12.10"
  }
 },
 "nbformat": 4,
 "nbformat_minor": 5
}
